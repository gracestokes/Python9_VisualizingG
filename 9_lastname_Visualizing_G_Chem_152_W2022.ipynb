{
 "cells": [
  {
   "cell_type": "markdown",
   "metadata": {
    "id": "erG5xHECRQ9x",
    "nbgrader": {
     "grade": false,
     "grade_id": "cell-e738c8668287b02a",
     "locked": true,
     "schema_version": 3,
     "solution": false,
     "task": false
    }
   },
   "source": [
    "# Visualizing $G(T,P)$\n",
    "Written by Dr. Steven Neshyba (University of Puget Sound)\n",
    "\n",
    "Adapted for Chem 152 at Santa Clara University by Dr. Grace Stokes\n",
    "\n",
    "## Overview:\n",
    "Today, we're going to construct $G(T,P)$ for various phases of water. How do we do that? One strategy is by integrating the differential equation of state for the Gibbs energy,\n",
    "\n",
    "$$\n",
    "dG = -S dT + V dP \\ \\ \\ \\ (1)\n",
    "$$\n",
    "\n",
    "That might seem like a lot of work, but we already have a lot of the tools for this: we know how to construct $S(T,P)$ from *its* slopes (see Python 6--*Visualizing $S(T,P)$*), and we have expressions for the volume of water in its various phases (solid, liquid, gas).\n",
    "\n",
    "## Learning Goals\n",
    "- Gain familiarity with what the Gibbs energy thermodynamic surface looks like in a temperature-pressure state space\n",
    "- Recognize the relationship between the *intersection of Gibbs energy* surfaces (liquid and gas) and the *Clausius-Clapeyron* equation. "
   ]
  },
  {
   "cell_type": "code",
   "execution_count": null,
   "metadata": {
    "colab": {
     "base_uri": "https://localhost:8080/"
    },
    "id": "oaeB1BP4Sgz_",
    "outputId": "f83833cc-e889-4fc6-8d2b-02d3d8f72258"
   },
   "outputs": [],
   "source": [
    "pip install pint"
   ]
  },
  {
   "cell_type": "code",
   "execution_count": null,
   "metadata": {
    "id": "tL344_FHRQ91",
    "nbgrader": {
     "grade": false,
     "grade_id": "cell-8e8c2cd153b2e3dc",
     "locked": true,
     "schema_version": 3,
     "solution": false,
     "task": false
    }
   },
   "outputs": [],
   "source": [
    "# Import libraries\n",
    "import pint; from pint import UnitRegistry; AssignQuantity = UnitRegistry().Quantity\n",
    "import numpy as np\n",
    "import matplotlib.pyplot as plt\n",
    "import PchemLibrary as PL\n",
    "from mpl_toolkits.mplot3d import axes3d\n",
    "%matplotlib notebook"
   ]
  },
  {
   "cell_type": "markdown",
   "metadata": {
    "id": "xRxVaweBRQ92",
    "nbgrader": {
     "grade": false,
     "grade_id": "cell-a518b1d966502a55",
     "locked": true,
     "schema_version": 3,
     "solution": false,
     "task": false
    }
   },
   "source": [
    "### T,P state space\n",
    "In the cell below, we will make a 3-D grid of temperatures and pressures with the with the following specifications:\n",
    "\n",
    "- Temperature should run from 273 K to 400 K (and have at least 100 points)\n",
    "- Pressure should runn from 1000 Pa to 200000 Pa (also at least 100 points)\n",
    "\n",
    "We will also attach units to each."
   ]
  },
  {
   "cell_type": "code",
   "execution_count": null,
   "metadata": {
    "id": "DCRvYeq5RQ93",
    "nbgrader": {
     "grade": true,
     "grade_id": "cell-cd28037657cabda3",
     "locked": false,
     "points": 2,
     "schema_version": 3,
     "solution": true,
     "task": false
    }
   },
   "outputs": [],
   "source": [
    "# This code lays out the state space\n",
    "Tgrid, Pgrid = PL.Statespace([273,400,100],[1000,200000,101])\n",
    "# Attach units to Tgrid (K) and Pgrid (Pa)\n",
    "Pgrid = AssignQuantity(Pgrid,'Pa')\n",
    "Tgrid = AssignQuantity(Tgrid,'K')"
   ]
  },
  {
   "cell_type": "markdown",
   "metadata": {
    "id": "3_Z0n2kqRQ93",
    "nbgrader": {
     "grade": false,
     "grade_id": "cell-85dd588279a3c9cd",
     "locked": true,
     "schema_version": 3,
     "solution": false,
     "task": false
    }
   },
   "source": [
    "### Some general-purpose constants\n",
    "Values in the cell below should correspond to \"standard state\" conditions.\n",
    "\n",
    "Ooops, I made 3 mistakes! Please fix the three values in the cell below..."
   ]
  },
  {
   "cell_type": "code",
   "execution_count": 67,
   "metadata": {
    "id": "jNBBXwR3RQ93",
    "nbgrader": {
     "grade": false,
     "grade_id": "cell-1b9be137a7bdc622",
     "locked": true,
     "schema_version": 3,
     "solution": false,
     "task": false
    }
   },
   "outputs": [],
   "source": [
    "# Gas constant in SI units\n",
    "R = AssignQuantity(0.08206,'J /mol/K') #What is value for R in terms of J/mol K?\n",
    "\n",
    "# Standard state conditions, in SI units\n",
    "T0 = AssignQuantity(760,'K') #What is standard temperature in Kelvin?\n",
    "P0 = AssignQuantity(298,'pascal') #How many Pascals are equivalent to 1 bar?"
   ]
  },
  {
   "cell_type": "markdown",
   "metadata": {
    "id": "8J66A9t_RQ94",
    "nbgrader": {
     "grade": false,
     "grade_id": "cell-dcc9d968b96409eb",
     "locked": true,
     "schema_version": 3,
     "solution": false,
     "task": false
    }
   },
   "source": [
    "### Constants pertaining to water\n",
    "In the previous exercise, we looked up constants for three phases of water - See https://webbook.nist.gov/chemistry/name-ser/ for standard-state entropy values. "
   ]
  },
  {
   "cell_type": "code",
   "execution_count": null,
   "metadata": {
    "id": "HScfNRRuRQ94",
    "nbgrader": {
     "grade": false,
     "grade_id": "cell-72eafca370b9b281",
     "locked": true,
     "schema_version": 3,
     "solution": false,
     "task": false
    }
   },
   "outputs": [],
   "source": [
    "# No need to make changes to this cell. just hit \"SHIFT_ENTER\"\n",
    "# Some SI units related to entropy\n",
    "EUnits = 'J/K/mol'\n",
    "dSdTUnits = 'J / kelvin^2 /mole'\n",
    "dSdPUnits = 'meter ** 3 / kelvin / mole'\n",
    "EnergyUnits = 'J/mol'\n",
    "\n",
    "# Molar mass of water\n",
    "M = AssignQuantity(0.018,'kg/mol')\n",
    "\n",
    "# Parameters for gaseous water\n",
    "Vgrid_gas = R*Tgrid/Pgrid\n",
    "CP_gas = AssignQuantity(33.6,EUnits)\n",
    "SS_gas = [T0,P0,AssignQuantity(188.835,EUnits)] # The standard state entropy\n",
    "GS_gas = [T0,P0,AssignQuantity(-228600,'J/mol')] # The standard state Gibbs energy\n",
    "\n",
    "# Parameters for liquid water\n",
    "Vgrid_liq = AssignQuantity(18e-6,'m^3 /mol')*np.ones(np.shape(Pgrid)) # Molar volume, as a state-space grid\n",
    "beta_liq = AssignQuantity(2.1e-4,'1/K') # Thermal expansivity\n",
    "CP_liq = AssignQuantity(75.4,EUnits) # Heat capacity\n",
    "SS_liq = [T0,P0,AssignQuantity(69.95,EUnits)] # The standard state entropy\n",
    "GS_liq = [T0,P0,AssignQuantity(-237100,EnergyUnits)] # The standard state Gibbs energy"
   ]
  },
  {
   "cell_type": "markdown",
   "metadata": {
    "id": "DPsvk-L5RQ96",
    "nbgrader": {
     "grade": false,
     "grade_id": "cell-bea50aed374208df",
     "locked": true,
     "schema_version": 3,
     "solution": false,
     "task": false
    }
   },
   "source": [
    "## Integrate the differential equation of state for the Gibbs energy from the differential equations for entropy\n",
    "Below, we use the same state-space integrator we used in *Visualizing $S(T,P)$*) to calculate the entropies of water as a function of pressure and temperature. \n",
    "Then, we calculate the $G(T,P)$ thermodynamic surface of water vapor (gas) by integrating $dG = -S_{gas}dT+V_{gas}dP$.\n"
   ]
  },
  {
   "cell_type": "code",
   "execution_count": null,
   "metadata": {
    "id": "F02BuJLORQ96",
    "nbgrader": {
     "grade": true,
     "grade_id": "cell-074f1d2df386f335",
     "locked": false,
     "points": 2,
     "schema_version": 3,
     "solution": true,
     "task": false
    }
   },
   "outputs": [],
   "source": [
    "# No need to make changes to this cell, just hit \"SHIFT-ENTER\"\n",
    "# We derived and determined these equations from Python 6\n",
    "dSdT_gas = CP_gas/Tgrid # dSdT for the gas\n",
    "dSdP_gas = -R/Pgrid # dSdP for the gas\n",
    "\n",
    "\n",
    "# Calculate the entropy of the gas as a thermodynamic surface\n",
    "S_gas = PL.Integrator([Tgrid, Pgrid], dSdT_gas, dSdP_gas, AssignQuantity, Units=EUnits, SState=SS_gas)\n",
    "\n",
    "# Calculate the Gibbs energy of the gas using standard state Gibbs energy of gas\n",
    "G_gas = PL.Integrator([Tgrid, Pgrid], -S_gas, Vgrid_gas, AssignQuantity, Units=EnergyUnits, SState=GS_gas)\n",
    "\n",
    "# Plot the gas' Gibbs Energy\n",
    "myzlim = [-260000, -220000]\n",
    "ax = PL.plot_surface(Tgrid, Pgrid, G_gas, color='gray')\n",
    "ax.set_xlabel(str(Tgrid.units))\n",
    "ax.set_ylabel(str(Pgrid.units))\n",
    "ax.set_zlabel(str(G_gas.units))\n",
    "ax.set_zlim(myzlim)\n",
    "ax.set_title('G (gas)')\n"
   ]
  },
  {
   "cell_type": "markdown",
   "metadata": {},
   "source": [
    "## We will do the same calculations to calculate and plot Gibbs energy of a liquid\n",
    "We also calculate $G(T,P)$ of liquid water by integrating $dG = -S_{liq}dT+V_{liq}dP$ using the standard-state Gibbs energy of the liquid!"
   ]
  },
  {
   "cell_type": "code",
   "execution_count": null,
   "metadata": {},
   "outputs": [],
   "source": [
    "dSdT_liq = ...  # dSdT for the liquid\n",
    "dSdP_liq = ...  # dSdP for the liquid\n",
    "# Calculate the entropy of the liquid as a thermodynamic surface\n",
    "\n",
    "# Calculate the Gibbs energy of the gas using standard state Gibbs energy of liquid\n",
    "\n",
    "# Plot the liquid's Gibbs Energy in blue"
   ]
  },
  {
   "cell_type": "markdown",
   "metadata": {
    "id": "oPqOlS9XRQ98",
    "nbgrader": {
     "grade": false,
     "grade_id": "cell-9344ecd9255bc5ed",
     "locked": true,
     "schema_version": 3,
     "solution": false,
     "task": false
    }
   },
   "source": [
    "# Overlay Gibbs Energies\n",
    "To answer the following Pause for Analysis Questions, it may help to plot $G(T,P)$ for liquid and gas on the same figure.\n"
   ]
  },
  {
   "cell_type": "code",
   "execution_count": null,
   "metadata": {
    "id": "lsFcrBPFRQ98",
    "nbgrader": {
     "grade": false,
     "grade_id": "cell-32a924b3eb1bd302",
     "locked": true,
     "schema_version": 3,
     "solution": false,
     "task": false
    },
    "outputId": "58f44e6c-2b6d-4d2f-c88b-b3432117a5fe"
   },
   "outputs": [],
   "source": [
    "# Plot gas and liquid together\n",
    "ax = PL.plot_surface(Tgrid, Pgrid, G_gas, color='gray')\n",
    "ax = PL.plot_surface(Tgrid, Pgrid, G_liq, color='blue', overlay=True,ax=ax)\n",
    "ax.set_xlabel(str(Tgrid.units))\n",
    "ax.set_ylabel(str(Pgrid.units))\n",
    "ax.set_zlabel(str(G_liq.units))\n",
    "ax.set_zlim(myzlim)\n",
    "ax.set_title('G (liq=blue, gas=gray)')"
   ]
  },
  {
   "cell_type": "markdown",
   "metadata": {},
   "source": [
    "## Pause for analysis #1:\n",
    "Why is the slope of the curve for G(T,P) for a gas in the temperature direction steeper than for a liquid?"
   ]
  },
  {
   "cell_type": "markdown",
   "metadata": {
    "id": "bqI6x720RQ99",
    "nbgrader": {
     "grade": false,
     "grade_id": "cell-23861d197776bc1f",
     "locked": true,
     "schema_version": 3,
     "solution": false,
     "task": false
    }
   },
   "source": [
    "## Pause for analysis #2:\n",
    "Why is the slope of the curve for G(T,P) for a gas in the pressure direction ALSO steeper than for a liquid?"
   ]
  },
  {
   "cell_type": "markdown",
   "metadata": {},
   "source": [
    "## Pause for analysis #3:\n",
    "\n",
    "If we graphed the intersection between the blue and grey graphs, we would see the pressures and temperatures at which the Gibbs energy of the gas equals that of the liquid. This would be the liquid-gas phase coexistence curve in a phase diagram! What equation can we use to model this curve?"
   ]
  },
  {
   "cell_type": "code",
   "execution_count": null,
   "metadata": {},
   "outputs": [],
   "source": []
  }
 ],
 "metadata": {
  "celltoolbar": "Create Assignment",
  "colab": {
   "name": "9 - lastname - Visualizing G Chem 152 W2022.ipynb",
   "provenance": []
  },
  "kernelspec": {
   "display_name": "Python 3 (ipykernel)",
   "language": "python",
   "name": "python3"
  },
  "language_info": {
   "codemirror_mode": {
    "name": "ipython",
    "version": 3
   },
   "file_extension": ".py",
   "mimetype": "text/x-python",
   "name": "python",
   "nbconvert_exporter": "python",
   "pygments_lexer": "ipython3",
   "version": "3.9.7"
  }
 },
 "nbformat": 4,
 "nbformat_minor": 1
}
